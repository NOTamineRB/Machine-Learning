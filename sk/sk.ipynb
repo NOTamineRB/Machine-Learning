{
 "cells": [
  {
   "cell_type": "code",
   "execution_count": 11,
   "metadata": {},
   "outputs": [],
   "source": [
    "# Import required libraries\n",
    "import pandas as pd\n",
    "import numpy as np \n",
    "import sklearn\n",
    "from sklearn.neural_network import MLPClassifier\n",
    "from sklearn.neural_network import MLPRegressor\n",
    "# Import necessary modules\n",
    "from sklearn.model_selection import train_test_split\n",
    "from sklearn.metrics import mean_squared_error\n",
    "from math import sqrt\n",
    "from sklearn.metrics import r2_score\n",
    "from sklearn import metrics # for the check the error and accuracy of the model"
   ]
  },
  {
   "cell_type": "code",
   "execution_count": 12,
   "metadata": {},
   "outputs": [],
   "source": [
    "data = pd.read_csv('Absenteeism_at_work.csv', sep = ';')\n",
    "#data.sample(5)\n",
    "data.rename(columns={\"Absenteeism time in hours\": \"Default\"}, inplace=True)"
   ]
  },
  {
   "cell_type": "code",
   "execution_count": 13,
   "metadata": {},
   "outputs": [],
   "source": [
    "from sklearn.feature_selection import mutual_info_classif\n",
    "import matplotlib.pyplot as plt"
   ]
  },
  {
   "cell_type": "code",
   "execution_count": 14,
   "metadata": {},
   "outputs": [
    {
     "name": "stdout",
     "output_type": "stream",
     "text": [
      "<class 'pandas.core.frame.DataFrame'>\n",
      "RangeIndex: 740 entries, 0 to 739\n",
      "Data columns (total 20 columns):\n",
      "Reason for absence                 740 non-null int64\n",
      "Month of absence                   740 non-null int64\n",
      "Day of the week                    740 non-null int64\n",
      "Seasons                            740 non-null int64\n",
      "Transportation expense             740 non-null int64\n",
      "Distance from Residence to Work    740 non-null int64\n",
      "Service time                       740 non-null int64\n",
      "Age                                740 non-null int64\n",
      "Work load Average/day              740 non-null float64\n",
      "Hit target                         740 non-null int64\n",
      "Disciplinary failure               740 non-null int64\n",
      "Education                          740 non-null int64\n",
      "Son                                740 non-null int64\n",
      "Social drinker                     740 non-null int64\n",
      "Social smoker                      740 non-null int64\n",
      "Pet                                740 non-null int64\n",
      "Weight                             740 non-null int64\n",
      "Height                             740 non-null int64\n",
      "Body mass index                    740 non-null int64\n",
      "Default                            740 non-null int64\n",
      "dtypes: float64(1), int64(19)\n",
      "memory usage: 115.7 KB\n"
     ]
    }
   ],
   "source": [
    "data.drop('ID', axis = 1, inplace =True) # drop column \"ID\"\n",
    "data.info()"
   ]
  },
  {
   "cell_type": "code",
   "execution_count": 15,
   "metadata": {},
   "outputs": [
    {
     "name": "stdout",
     "output_type": "stream",
     "text": [
      "(518, 19)\n",
      "(222, 19)\n"
     ]
    }
   ],
   "source": [
    "X = data.drop('Default', axis=1)  \n",
    "Y = data['Default']\n",
    "#Y.info()\n",
    "X_train, X_test, y_train, y_test = train_test_split(X, Y, test_size=0.30, random_state=40)\n",
    "print(X_train.shape); print(X_test.shape)"
   ]
  },
  {
   "cell_type": "code",
   "execution_count": 16,
   "metadata": {},
   "outputs": [
    {
     "name": "stdout",
     "output_type": "stream",
     "text": [
      "[[ 13  20]\n",
      " [  1 484]]\n",
      "              precision    recall  f1-score   support\n",
      "\n",
      "           0       0.93      0.39      0.55        33\n",
      "           1       0.96      1.00      0.98       485\n",
      "\n",
      "   micro avg       0.96      0.96      0.96       518\n",
      "   macro avg       0.94      0.70      0.77       518\n",
      "weighted avg       0.96      0.96      0.95       518\n",
      "\n",
      "[[  5   6]\n",
      " [  0 211]]\n",
      "              precision    recall  f1-score   support\n",
      "\n",
      "           0       1.00      0.45      0.62        11\n",
      "           1       0.97      1.00      0.99       211\n",
      "\n",
      "   micro avg       0.97      0.97      0.97       222\n",
      "   macro avg       0.99      0.73      0.81       222\n",
      "weighted avg       0.97      0.97      0.97       222\n",
      "\n"
     ]
    }
   ],
   "source": [
    "mlp = MLPClassifier(hidden_layer_sizes=(23,23,23), activation='relu', solver='adam', max_iter=500)\n",
    "#Adaptation des données d'entraînement au réseau\n",
    "mlp.fit(X_train,y_train)\n",
    "\n",
    "#utiliser le modèle formé pour générer des prédictions sur l'ensemble des données d'entraînement et de test\n",
    "predict_train = mlp.predict(X_train)\n",
    "predict_test = mlp.predict(X_test)\n",
    "#évaluer les performances du modèle\n",
    "from sklearn.metrics import classification_report,confusion_matrix\n",
    "# la matrice de confusion pour données d'entraînement\n",
    "print(confusion_matrix(y_train,predict_train))\n",
    "#le rapport de confusion\n",
    "print(classification_report(y_train,predict_train))\n",
    "\n",
    "# la matrice de confusion pour données de test\n",
    "print(confusion_matrix(y_test,predict_test))\n",
    "#le rapport de confusion\n",
    "print(classification_report(y_test,predict_test))"
   ]
  },
  {
   "cell_type": "code",
   "execution_count": null,
   "metadata": {},
   "outputs": [],
   "source": []
  }
 ],
 "metadata": {
  "kernelspec": {
   "display_name": "Python 3",
   "language": "python",
   "name": "python3"
  },
  "language_info": {
   "codemirror_mode": {
    "name": "ipython",
    "version": 3
   },
   "file_extension": ".py",
   "mimetype": "text/x-python",
   "name": "python",
   "nbconvert_exporter": "python",
   "pygments_lexer": "ipython3",
   "version": "3.7.1"
  }
 },
 "nbformat": 4,
 "nbformat_minor": 2
}
