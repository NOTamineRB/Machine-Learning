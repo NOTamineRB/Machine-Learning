{
 "cells": [
  {
   "cell_type": "code",
   "execution_count": 15,
   "metadata": {},
   "outputs": [],
   "source": [
    "import pandas as pd\n",
    "import numpy as np\n",
    "import matplotlib.pyplot as plt\n",
    "import seaborn as sns\n",
    "%matplotlib inline\n",
    "plt.rcParams[\"figure.figsize\"] = (20,10)"
   ]
  },
  {
   "cell_type": "code",
   "execution_count": 16,
   "metadata": {},
   "outputs": [
    {
     "data": {
      "text/html": [
       "<div>\n",
       "<style scoped>\n",
       "    .dataframe tbody tr th:only-of-type {\n",
       "        vertical-align: middle;\n",
       "    }\n",
       "\n",
       "    .dataframe tbody tr th {\n",
       "        vertical-align: top;\n",
       "    }\n",
       "\n",
       "    .dataframe thead th {\n",
       "        text-align: right;\n",
       "    }\n",
       "</style>\n",
       "<table border=\"1\" class=\"dataframe\">\n",
       "  <thead>\n",
       "    <tr style=\"text-align: right;\">\n",
       "      <th></th>\n",
       "      <th>ID</th>\n",
       "      <th>Reason for absence</th>\n",
       "      <th>Month of absence</th>\n",
       "      <th>Day of the week</th>\n",
       "      <th>Seasons</th>\n",
       "      <th>Transportation expense</th>\n",
       "      <th>Distance from Residence to Work</th>\n",
       "      <th>Service time</th>\n",
       "      <th>Age</th>\n",
       "      <th>Hit target</th>\n",
       "      <th>Disciplinary failure</th>\n",
       "      <th>Education</th>\n",
       "      <th>Son</th>\n",
       "      <th>Social drinker</th>\n",
       "      <th>Social smoker</th>\n",
       "      <th>Pet</th>\n",
       "      <th>Weight</th>\n",
       "      <th>Height</th>\n",
       "      <th>Body mass index</th>\n",
       "      <th>Absenteeism time in hours</th>\n",
       "    </tr>\n",
       "  </thead>\n",
       "  <tbody>\n",
       "    <tr>\n",
       "      <th>0</th>\n",
       "      <td>11</td>\n",
       "      <td>26</td>\n",
       "      <td>7</td>\n",
       "      <td>3</td>\n",
       "      <td>1</td>\n",
       "      <td>289</td>\n",
       "      <td>36</td>\n",
       "      <td>13</td>\n",
       "      <td>33</td>\n",
       "      <td>97</td>\n",
       "      <td>0</td>\n",
       "      <td>1</td>\n",
       "      <td>2</td>\n",
       "      <td>1</td>\n",
       "      <td>0</td>\n",
       "      <td>1</td>\n",
       "      <td>90</td>\n",
       "      <td>172</td>\n",
       "      <td>30</td>\n",
       "      <td>4</td>\n",
       "    </tr>\n",
       "    <tr>\n",
       "      <th>1</th>\n",
       "      <td>36</td>\n",
       "      <td>0</td>\n",
       "      <td>7</td>\n",
       "      <td>3</td>\n",
       "      <td>1</td>\n",
       "      <td>118</td>\n",
       "      <td>13</td>\n",
       "      <td>18</td>\n",
       "      <td>50</td>\n",
       "      <td>97</td>\n",
       "      <td>1</td>\n",
       "      <td>1</td>\n",
       "      <td>1</td>\n",
       "      <td>1</td>\n",
       "      <td>0</td>\n",
       "      <td>0</td>\n",
       "      <td>98</td>\n",
       "      <td>178</td>\n",
       "      <td>31</td>\n",
       "      <td>0</td>\n",
       "    </tr>\n",
       "    <tr>\n",
       "      <th>2</th>\n",
       "      <td>3</td>\n",
       "      <td>23</td>\n",
       "      <td>7</td>\n",
       "      <td>4</td>\n",
       "      <td>1</td>\n",
       "      <td>179</td>\n",
       "      <td>51</td>\n",
       "      <td>18</td>\n",
       "      <td>38</td>\n",
       "      <td>97</td>\n",
       "      <td>0</td>\n",
       "      <td>1</td>\n",
       "      <td>0</td>\n",
       "      <td>1</td>\n",
       "      <td>0</td>\n",
       "      <td>0</td>\n",
       "      <td>89</td>\n",
       "      <td>170</td>\n",
       "      <td>31</td>\n",
       "      <td>2</td>\n",
       "    </tr>\n",
       "    <tr>\n",
       "      <th>3</th>\n",
       "      <td>7</td>\n",
       "      <td>7</td>\n",
       "      <td>7</td>\n",
       "      <td>5</td>\n",
       "      <td>1</td>\n",
       "      <td>279</td>\n",
       "      <td>5</td>\n",
       "      <td>14</td>\n",
       "      <td>39</td>\n",
       "      <td>97</td>\n",
       "      <td>0</td>\n",
       "      <td>1</td>\n",
       "      <td>2</td>\n",
       "      <td>1</td>\n",
       "      <td>1</td>\n",
       "      <td>0</td>\n",
       "      <td>68</td>\n",
       "      <td>168</td>\n",
       "      <td>24</td>\n",
       "      <td>4</td>\n",
       "    </tr>\n",
       "    <tr>\n",
       "      <th>4</th>\n",
       "      <td>11</td>\n",
       "      <td>23</td>\n",
       "      <td>7</td>\n",
       "      <td>5</td>\n",
       "      <td>1</td>\n",
       "      <td>289</td>\n",
       "      <td>36</td>\n",
       "      <td>13</td>\n",
       "      <td>33</td>\n",
       "      <td>97</td>\n",
       "      <td>0</td>\n",
       "      <td>1</td>\n",
       "      <td>2</td>\n",
       "      <td>1</td>\n",
       "      <td>0</td>\n",
       "      <td>1</td>\n",
       "      <td>90</td>\n",
       "      <td>172</td>\n",
       "      <td>30</td>\n",
       "      <td>2</td>\n",
       "    </tr>\n",
       "  </tbody>\n",
       "</table>\n",
       "</div>"
      ],
      "text/plain": [
       "   ID  Reason for absence  Month of absence  Day of the week  Seasons  \\\n",
       "0  11                  26                 7                3        1   \n",
       "1  36                   0                 7                3        1   \n",
       "2   3                  23                 7                4        1   \n",
       "3   7                   7                 7                5        1   \n",
       "4  11                  23                 7                5        1   \n",
       "\n",
       "   Transportation expense  Distance from Residence to Work  Service time  Age  \\\n",
       "0                     289                               36            13   33   \n",
       "1                     118                               13            18   50   \n",
       "2                     179                               51            18   38   \n",
       "3                     279                                5            14   39   \n",
       "4                     289                               36            13   33   \n",
       "\n",
       "   Hit target  Disciplinary failure  Education  Son  Social drinker  \\\n",
       "0          97                     0          1    2               1   \n",
       "1          97                     1          1    1               1   \n",
       "2          97                     0          1    0               1   \n",
       "3          97                     0          1    2               1   \n",
       "4          97                     0          1    2               1   \n",
       "\n",
       "   Social smoker  Pet  Weight  Height  Body mass index  \\\n",
       "0              0    1      90     172               30   \n",
       "1              0    0      98     178               31   \n",
       "2              0    0      89     170               31   \n",
       "3              1    0      68     168               24   \n",
       "4              0    1      90     172               30   \n",
       "\n",
       "   Absenteeism time in hours  \n",
       "0                          4  \n",
       "1                          0  \n",
       "2                          2  \n",
       "3                          4  \n",
       "4                          2  "
      ]
     },
     "execution_count": 16,
     "metadata": {},
     "output_type": "execute_result"
    }
   ],
   "source": [
    "#importation\n",
    "df = pd.read_excel(\"Absenteeism_at_work.xls\")\n",
    "df.head()"
   ]
  },
  {
   "cell_type": "code",
   "execution_count": 17,
   "metadata": {},
   "outputs": [
    {
     "data": {
      "text/plain": [
       "ID                                 0\n",
       "Reason for absence                 0\n",
       "Month of absence                   0\n",
       "Day of the week                    0\n",
       "Seasons                            0\n",
       "Transportation expense             0\n",
       "Distance from Residence to Work    0\n",
       "Service time                       0\n",
       "Age                                0\n",
       "Hit target                         0\n",
       "Disciplinary failure               0\n",
       "Education                          0\n",
       "Son                                0\n",
       "Social drinker                     0\n",
       "Social smoker                      0\n",
       "Pet                                0\n",
       "Weight                             0\n",
       "Height                             0\n",
       "Body mass index                    0\n",
       "Absenteeism time in hours          0\n",
       "dtype: int64"
      ]
     },
     "execution_count": 17,
     "metadata": {},
     "output_type": "execute_result"
    }
   ],
   "source": [
    "#data info\n",
    "df.isna().sum()"
   ]
  },
  {
   "cell_type": "code",
   "execution_count": 18,
   "metadata": {},
   "outputs": [
    {
     "data": {
      "text/plain": [
       "'ID'"
      ]
     },
     "execution_count": 18,
     "metadata": {},
     "output_type": "execute_result"
    }
   ],
   "source": [
    "cols = df.columns.tolist()\n",
    "cols.pop(0)"
   ]
  },
  {
   "cell_type": "code",
   "execution_count": 19,
   "metadata": {},
   "outputs": [
    {
     "data": {
      "text/plain": [
       "Text(0.5, 1.0, 'Average')"
      ]
     },
     "execution_count": 19,
     "metadata": {},
     "output_type": "execute_result"
    },
    {
     "data": {
      "image/png": "[encoded data removed]",
      "text/plain": [
       "<Figure size 720x504 with 1 Axes>"
      ]
     },
     "metadata": {
      "needs_background": "light"
     },
     "output_type": "display_data"
    }
   ],
   "source": [
    "#ploting data pour obtenir des informations approfondies\n",
    "AvgR = df[cols[1:]].mean()\n",
    "AvgR = AvgR.sort_values()\n",
    "plt.figure(figsize=(10,7))\n",
    "plt.barh(np.arange(len(cols[1:])), AvgR.values, align='center')\n",
    "plt.yticks(np.arange(len(cols[1:])), AvgR.index)\n",
    "plt.ylabel('Categories')\n",
    "plt.xlabel('Average')\n",
    "plt.title('Average')"
   ]
  },
  {
   "cell_type": "code",
   "execution_count": 20,
   "metadata": {},
   "outputs": [],
   "source": [
    "#droping les Colonnes "
   ]
  },
  {
   "cell_type": "code",
   "execution_count": 21,
   "metadata": {
    "scrolled": true
   },
   "outputs": [
    {
     "data": {
      "text/html": [
       "<div>\n",
       "<style scoped>\n",
       "    .dataframe tbody tr th:only-of-type {\n",
       "        vertical-align: middle;\n",
       "    }\n",
       "\n",
       "    .dataframe tbody tr th {\n",
       "        vertical-align: top;\n",
       "    }\n",
       "\n",
       "    .dataframe thead th {\n",
       "        text-align: right;\n",
       "    }\n",
       "</style>\n",
       "<table border=\"1\" class=\"dataframe\">\n",
       "  <thead>\n",
       "    <tr style=\"text-align: right;\">\n",
       "      <th></th>\n",
       "      <th>Reason for absence</th>\n",
       "      <th>Day of the week</th>\n",
       "      <th>Seasons</th>\n",
       "      <th>Transportation expense</th>\n",
       "      <th>Distance from Residence to Work</th>\n",
       "      <th>Age</th>\n",
       "      <th>Disciplinary failure</th>\n",
       "      <th>Education</th>\n",
       "      <th>Son</th>\n",
       "      <th>Social drinker</th>\n",
       "      <th>Social smoker</th>\n",
       "      <th>Pet</th>\n",
       "      <th>Body mass index</th>\n",
       "      <th>Absenteeism time in hours</th>\n",
       "    </tr>\n",
       "  </thead>\n",
       "  <tbody>\n",
       "    <tr>\n",
       "      <th>0</th>\n",
       "      <td>26</td>\n",
       "      <td>3</td>\n",
       "      <td>1</td>\n",
       "      <td>289</td>\n",
       "      <td>36</td>\n",
       "      <td>33</td>\n",
       "      <td>0</td>\n",
       "      <td>1</td>\n",
       "      <td>2</td>\n",
       "      <td>1</td>\n",
       "      <td>0</td>\n",
       "      <td>1</td>\n",
       "      <td>30</td>\n",
       "      <td>4</td>\n",
       "    </tr>\n",
       "    <tr>\n",
       "      <th>1</th>\n",
       "      <td>0</td>\n",
       "      <td>3</td>\n",
       "      <td>1</td>\n",
       "      <td>118</td>\n",
       "      <td>13</td>\n",
       "      <td>50</td>\n",
       "      <td>1</td>\n",
       "      <td>1</td>\n",
       "      <td>1</td>\n",
       "      <td>1</td>\n",
       "      <td>0</td>\n",
       "      <td>0</td>\n",
       "      <td>31</td>\n",
       "      <td>0</td>\n",
       "    </tr>\n",
       "    <tr>\n",
       "      <th>2</th>\n",
       "      <td>23</td>\n",
       "      <td>4</td>\n",
       "      <td>1</td>\n",
       "      <td>179</td>\n",
       "      <td>51</td>\n",
       "      <td>38</td>\n",
       "      <td>0</td>\n",
       "      <td>1</td>\n",
       "      <td>0</td>\n",
       "      <td>1</td>\n",
       "      <td>0</td>\n",
       "      <td>0</td>\n",
       "      <td>31</td>\n",
       "      <td>2</td>\n",
       "    </tr>\n",
       "    <tr>\n",
       "      <th>3</th>\n",
       "      <td>7</td>\n",
       "      <td>5</td>\n",
       "      <td>1</td>\n",
       "      <td>279</td>\n",
       "      <td>5</td>\n",
       "      <td>39</td>\n",
       "      <td>0</td>\n",
       "      <td>1</td>\n",
       "      <td>2</td>\n",
       "      <td>1</td>\n",
       "      <td>1</td>\n",
       "      <td>0</td>\n",
       "      <td>24</td>\n",
       "      <td>4</td>\n",
       "    </tr>\n",
       "    <tr>\n",
       "      <th>4</th>\n",
       "      <td>23</td>\n",
       "      <td>5</td>\n",
       "      <td>1</td>\n",
       "      <td>289</td>\n",
       "      <td>36</td>\n",
       "      <td>33</td>\n",
       "      <td>0</td>\n",
       "      <td>1</td>\n",
       "      <td>2</td>\n",
       "      <td>1</td>\n",
       "      <td>0</td>\n",
       "      <td>1</td>\n",
       "      <td>30</td>\n",
       "      <td>2</td>\n",
       "    </tr>\n",
       "  </tbody>\n",
       "</table>\n",
       "</div>"
      ],
      "text/plain": [
       "   Reason for absence  Day of the week  Seasons  Transportation expense  \\\n",
       "0                  26                3        1                     289   \n",
       "1                   0                3        1                     118   \n",
       "2                  23                4        1                     179   \n",
       "3                   7                5        1                     279   \n",
       "4                  23                5        1                     289   \n",
       "\n",
       "   Distance from Residence to Work  Age  Disciplinary failure  Education  Son  \\\n",
       "0                               36   33                     0          1    2   \n",
       "1                               13   50                     1          1    1   \n",
       "2                               51   38                     0          1    0   \n",
       "3                                5   39                     0          1    2   \n",
       "4                               36   33                     0          1    2   \n",
       "\n",
       "   Social drinker  Social smoker  Pet  Body mass index  \\\n",
       "0               1              0    1               30   \n",
       "1               1              0    0               31   \n",
       "2               1              0    0               31   \n",
       "3               1              1    0               24   \n",
       "4               1              0    1               30   \n",
       "\n",
       "   Absenteeism time in hours  \n",
       "0                          4  \n",
       "1                          0  \n",
       "2                          2  \n",
       "3                          4  \n",
       "4                          2  "
      ]
     },
     "execution_count": 21,
     "metadata": {},
     "output_type": "execute_result"
    }
   ],
   "source": [
    "df.drop(['ID','Month of absence','Service time','Hit target','Weight','Height'],axis='columns',inplace=True)\n",
    "df.head()"
   ]
  },
  {
   "cell_type": "code",
   "execution_count": 22,
   "metadata": {},
   "outputs": [
    {
     "data": {
      "text/plain": [
       "<matplotlib.axes._subplots.AxesSubplot at 0x1dc843acef0>"
      ]
     },
     "execution_count": 22,
     "metadata": {},
     "output_type": "execute_result"
    },
    {
     "data": {
      "image/png": "[encoded data removed]",
      "text/plain": [
       "<Figure size 1440x720 with 1 Axes>"
      ]
     },
     "metadata": {
      "needs_background": "light"
     },
     "output_type": "display_data"
    }
   ],
   "source": [
    "#the first 4 cloums has more then 58% case of absent \n",
    "df.rename(columns={\"Reason for absence\": \"Reasonforabsence\"}, inplace=True)\n",
    "df.Reasonforabsence.value_counts().sort_values().plot(kind = 'barh')"
   ]
  },
  {
   "cell_type": "code",
   "execution_count": 23,
   "metadata": {},
   "outputs": [
    {
     "data": {
      "text/plain": [
       "1    652\n",
       "0     44\n",
       "2     32\n",
       "3     12\n",
       "Name: Absenteeism time in hours, dtype: int64"
      ]
     },
     "execution_count": 23,
     "metadata": {},
     "output_type": "execute_result"
    }
   ],
   "source": [
    "df['Absenteeism time in hours'].replace([0],0,inplace=True)#\"Parfait\"\n",
    "df['Absenteeism time in hours'].replace([1,2,3,4,5,6,7,8,9,10,16],1,inplace=True)#\"Faible\"\n",
    "df['Absenteeism time in hours'].replace([24,40,32,56,48],2,inplace=True)#\"Moyenne\"\n",
    "df['Absenteeism time in hours'].replace([120,80,64,112,104],3,inplace=True)#\"Elever\"\n",
    "df['Absenteeism time in hours'].value_counts()"
   ]
  },
  {
   "cell_type": "code",
   "execution_count": 10,
   "metadata": {},
   "outputs": [
    {
     "data": {
      "text/plain": [
       "1    264\n",
       "3    244\n",
       "2    232\n",
       "Name: Body mass index, dtype: int64"
      ]
     },
     "execution_count": 10,
     "metadata": {},
     "output_type": "execute_result"
    }
   ],
   "source": [
    "df['Body mass index'].replace([24,23,19,22,21],1,inplace=True)#\"Normal Weight\"\n",
    "df['Body mass index'].replace([25,28,27,29],2,inplace=True)#\"Over Weight\"\n",
    "df['Body mass index'].replace([31,30,32,38,33,35,34,36],3,inplace=True)#\"Obesityt\"\n",
    "df['Body mass index'].value_counts()"
   ]
  },
  {
   "cell_type": "code",
   "execution_count": 11,
   "metadata": {},
   "outputs": [
    {
     "data": {
      "text/plain": [
       "2    394\n",
       "1    263\n",
       "3     83\n",
       "Name: Age, dtype: int64"
      ]
     },
     "execution_count": 11,
     "metadata": {},
     "output_type": "execute_result"
    }
   ],
   "source": [
    "df['Age'].replace([28,33,30,31,32,29,27],1,inplace=True)#\"[25-35]\"\n",
    "df['Age'].replace([38,37,40,36,41,34,43,39],2,inplace=True)#\"[36-45]\"\n",
    "df['Age'].replace([50,47,58,48,49,46,53],3,inplace=True)#\"[45:]\"\n",
    "df['Age'].value_counts()"
   ]
  },
  {
   "cell_type": "code",
   "execution_count": 12,
   "metadata": {},
   "outputs": [
    {
     "data": {
      "text/plain": [
       "2    302\n",
       "1    228\n",
       "3    210\n",
       "Name: Distance from Residence to Work, dtype: int64"
      ]
     },
     "execution_count": 12,
     "metadata": {},
     "output_type": "execute_result"
    }
   ],
   "source": [
    "df['Distance from Residence to Work'].replace([10,11,12,13,14,15,16,17,5,20],1,inplace=True)#\"proche \"\n",
    "df['Distance from Residence to Work'].replace([26,25,36,31,22,29,27,35],2,inplace=True)#\"Normale\"\n",
    "df['Distance from Residence to Work'].replace([51,50,52,49,42,48,45],3,inplace=True)#\"loin\"\n",
    "df['Distance from Residence to Work'].value_counts()"
   ]
  },
  {
   "cell_type": "code",
   "execution_count": 13,
   "metadata": {},
   "outputs": [
    {
     "data": {
      "text/plain": [
       "179    180\n",
       "118     92\n",
       "225     81\n",
       "235     58\n",
       "289     45\n",
       "260     42\n",
       "291     40\n",
       "246     30\n",
       "155     29\n",
       "248     24\n",
       "361     24\n",
       "330     16\n",
       "369     15\n",
       "378      8\n",
       "228      8\n",
       "189      8\n",
       "233      7\n",
       "184      7\n",
       "157      7\n",
       "279      6\n",
       "300      5\n",
       "268      3\n",
       "388      3\n",
       "231      2\n",
       "Name: Transportation expense, dtype: int64"
      ]
     },
     "execution_count": 13,
     "metadata": {},
     "output_type": "execute_result"
    }
   ],
   "source": [
    "df['Transportation expense'].value_counts()"
   ]
  },
  {
   "cell_type": "code",
   "execution_count": 14,
   "metadata": {},
   "outputs": [
    {
     "data": {
      "text/plain": [
       "2    346\n",
       "1    323\n",
       "3     71\n",
       "Name: Transportation expense, dtype: int64"
      ]
     },
     "execution_count": 14,
     "metadata": {},
     "output_type": "execute_result"
    }
   ],
   "source": [
    "df['Transportation expense'].replace([179,118,155,189,184,157],1,inplace=True)#\"pas cher \"\n",
    "df['Transportation expense'].replace([255,235,289,291,246,248,228,233,279,268,231,225,260],2,inplace=True)#\"abordable\"\n",
    "df['Transportation expense'].replace([361,330,369,378,300,388],3,inplace=True)#\"cher \"\n",
    "df['Transportation expense'].value_counts()"
   ]
  },
  {
   "cell_type": "code",
   "execution_count": 15,
   "metadata": {},
   "outputs": [
    {
     "data": {
      "text/plain": [
       "23    149\n",
       "28    112\n",
       "27     69\n",
       "13     55\n",
       "0      43\n",
       "19     40\n",
       "22     38\n",
       "26     33\n",
       "25     31\n",
       "11     26\n",
       "10     25\n",
       "18     21\n",
       "14     19\n",
       "1      16\n",
       "7      15\n",
       "6       8\n",
       "12      8\n",
       "8       6\n",
       "21      6\n",
       "9       4\n",
       "5       3\n",
       "24      3\n",
       "16      3\n",
       "4       2\n",
       "15      2\n",
       "3       1\n",
       "2       1\n",
       "17      1\n",
       "Name: Reason for absence, dtype: int64"
      ]
     },
     "execution_count": 15,
     "metadata": {},
     "output_type": "execute_result"
    }
   ],
   "source": [
    "df['Reason for absence'].value_counts()"
   ]
  },
  {
   "cell_type": "code",
   "execution_count": 16,
   "metadata": {},
   "outputs": [
    {
     "data": {
      "text/plain": [
       "5    391\n",
       "1    149\n",
       "2    112\n",
       "3     69\n",
       "4     19\n",
       "Name: Reason for absence, dtype: int64"
      ]
     },
     "execution_count": 16,
     "metadata": {},
     "output_type": "execute_result"
    }
   ],
   "source": [
    "df['Reason for absence'].replace([0,1,2,3,4,5,6,7,8,9,10,11,12,13,15,16,17,18,19,20,21,22,24,25,26],5,inplace=True)#\"others \"\n",
    "df['Reason for absence'].replace(23,1,inplace=True)#\"medical consultation  \"\n",
    "df['Reason for absence'].replace(28,2,inplace=True)#\"dental consultation\"\n",
    "df['Reason for absence'].replace(27,3,inplace=True)#\" physiotherapy  \"\n",
    "df['Reason for absence'].replace(14,4,inplace=True)#\" Diseases of the genitourinary system  \"\n",
    "df['Reason for absence'].value_counts()"
   ]
  },
  {
   "cell_type": "code",
   "execution_count": 17,
   "metadata": {},
   "outputs": [],
   "source": [
    "import pandas as pd \n",
    "import numpy as np\n",
    "\n",
    "def logistic(x):\n",
    "    return 1.0/(1 + np.exp(-x))\n",
    "\n",
    "def logistic_deriv(x):\n",
    "    return logistic(x) * (1 - logistic(x))\n",
    "\n",
    "LR = 1   \n",
    "\n",
    "I_dim = 13\n",
    "H_dim = 4\n",
    "\n",
    "epoch_count = 1"
   ]
  },
  {
   "cell_type": "code",
   "execution_count": null,
   "metadata": {},
   "outputs": [],
   "source": []
  },
  {
   "cell_type": "code",
   "execution_count": 18,
   "metadata": {},
   "outputs": [],
   "source": [
    "#np.random.seed(1)\n",
    "weights_ItoH = np.random.uniform(-1, 1, (I_dim, H_dim))\n",
    "weights_HtoO = np.random.uniform(-1, 1, H_dim)\n",
    "\n",
    "preActivation_H = np.zeros(H_dim)\n",
    "postActivation_H = np.zeros(H_dim)\n",
    "\n",
    "training_data = df\n",
    "training_data.rename(columns={\"Absenteeism time in hours\": \"Default\"}, inplace=True)\n",
    "\n",
    "#training_data['Defaul'].unique()\n",
    "\n",
    "\n",
    "\n",
    "target_output = training_data['Default']\n",
    "training_data = training_data.drop('Default',axis = 1)\n",
    "\n",
    "\n",
    "\n",
    "training_data = np.asarray(training_data)\n",
    "training_count = len(training_data[:,0])\n"
   ]
  },
  {
   "cell_type": "code",
   "execution_count": 19,
   "metadata": {},
   "outputs": [],
   "source": [
    "validation_data =df\n",
    "validation_data.rename(columns={\"Absenteeism time in hours\": \"Default\"}, inplace=True)\n",
    "\n",
    "\n",
    "validation_data['Default'].unique()\n",
    "validation_output = validation_data['Default']\n",
    "validation_data = validation_data.drop('Default', axis=1) \n",
    "validation_data = np.asarray(validation_data)\n",
    "validation_count = len(validation_data[:,0])"
   ]
  },
  {
   "cell_type": "code",
   "execution_count": 20,
   "metadata": {},
   "outputs": [],
   "source": [
    "\n",
    "#------------------------------training----------------------------\n",
    "\n",
    "for epoch in range(epoch_count):\n",
    "    for sample in range(training_count):\n",
    "        for node in range(H_dim):\n",
    "            preActivation_H[node] = np.dot(training_data[sample,:], weights_ItoH[:, node])\n",
    "            postActivation_H[node] = logistic(preActivation_H[node])\n",
    "            \n",
    "        preActivation_O = np.dot(postActivation_H, weights_HtoO)\n",
    "        postActivation_O = logistic(preActivation_O)\n",
    "        \n",
    "        FE = postActivation_O - target_output[sample]\n",
    "        \n",
    "        for H_node in range(H_dim):\n",
    "            S_error = FE * logistic_deriv(preActivation_O)\n",
    "            gradient_HtoO = S_error * postActivation_H[H_node]\n",
    "                       \n",
    "            for I_node in range(I_dim):\n",
    "                input_value = training_data[sample, I_node]\n",
    "                gradient_ItoH = S_error * weights_HtoO[H_node] * logistic_deriv(preActivation_H[H_node]) * input_value\n",
    "                \n",
    "                weights_ItoH[I_node, H_node] -= LR * gradient_ItoH\n",
    "                \n",
    "            weights_HtoO[H_node] -= LR * gradient_HtoO\n"
   ]
  },
  {
   "cell_type": "code",
   "execution_count": 21,
   "metadata": {},
   "outputs": [
    {
     "name": "stdout",
     "output_type": "stream",
     "text": [
      "Percentage of correct classifications:\n",
      "88.10810810810811\n"
     ]
    }
   ],
   "source": [
    "\n",
    "#------------------------------------validation--------------------------\n",
    "           \n",
    "correct_classification_count = 0\n",
    "for sample in range(validation_count):\n",
    "    for node in range(H_dim):\n",
    "        preActivation_H[node] = np.dot(validation_data[sample,:], weights_ItoH[:, node])\n",
    "        postActivation_H[node] = logistic(preActivation_H[node])\n",
    "            \n",
    "    preActivation_O = np.dot(postActivation_H, weights_HtoO)\n",
    "    postActivation_O = logistic(preActivation_O)\n",
    "        \n",
    "    if postActivation_O > 0.5:\n",
    "        output = 1\n",
    "    else:\n",
    "        output = 0     \n",
    "        \n",
    "    if output == validation_output[sample]:\n",
    "        correct_classification_count += 1\n",
    "\n",
    "print('Percentage of correct classifications:')\n",
    "print(correct_classification_count*100/validation_count)"
   ]
  }
 ],
 "metadata": {
  "kernelspec": {
   "display_name": "Python 3",
   "language": "python",
   "name": "python3"
  },
  "language_info": {
   "codemirror_mode": {
    "name": "ipython",
    "version": 3
   },
   "file_extension": ".py",
   "mimetype": "text/x-python",
   "name": "python",
   "nbconvert_exporter": "python",
   "pygments_lexer": "ipython3",
   "version": "3.7.1"
  }
 },
 "nbformat": 4,
 "nbformat_minor": 2
}
